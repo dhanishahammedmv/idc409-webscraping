{
  "cells": [
    {
      "cell_type": "code",
      "source": [
        "!pip install -q requests\n",
        "!pip install -q html5lib\n",
        "!pip install -q bs4\n",
        "!pip install -q nltk\n",
        "!pip install -q spacy\n",
        "!pip install -q pandas"
      ],
      "metadata": {
        "id": "erWXjOvEwjkB"
      },
      "id": "erWXjOvEwjkB",
      "execution_count": 1,
      "outputs": []
    },
    {
      "cell_type": "code",
      "execution_count": 2,
      "id": "09e77951",
      "metadata": {
        "colab": {
          "base_uri": "https://localhost:8080/"
        },
        "id": "09e77951",
        "outputId": "4ce467f4-820a-42b4-9949-41cbfd45f574"
      },
      "outputs": [
        {
          "output_type": "stream",
          "name": "stderr",
          "text": [
            "[nltk_data] Downloading package stopwords to /root/nltk_data...\n",
            "[nltk_data]   Unzipping corpora/stopwords.zip.\n"
          ]
        },
        {
          "output_type": "stream",
          "name": "stdout",
          "text": [
            "en_core_web_sm model downloaded successfully.\n"
          ]
        },
        {
          "output_type": "stream",
          "name": "stderr",
          "text": [
            "[nltk_data] Downloading package punkt to /root/nltk_data...\n",
            "[nltk_data]   Unzipping tokenizers/punkt.zip.\n",
            "[nltk_data] Downloading package averaged_perceptron_tagger to\n",
            "[nltk_data]     /root/nltk_data...\n",
            "[nltk_data]   Unzipping taggers/averaged_perceptron_tagger.zip.\n"
          ]
        }
      ],
      "source": [
        "import nltk\n",
        "import spacy\n",
        "nltk.download(\"stopwords\")\n",
        "\n",
        "import subprocess\n",
        "\n",
        "#Run the command to download the spaCy model\n",
        "try:\n",
        "    subprocess.run([\"python\", \"-m\", \"spacy\", \"download\", \"en_core_web_sm\"], check=True)\n",
        "    print(\"en_core_web_sm model downloaded successfully.\")\n",
        "except subprocess.CalledProcessError:\n",
        "    print(\"Error: Failed to download the en_core_web_sm model.\")\n",
        "\n",
        "import requests\n",
        "from requests.adapters import HTTPAdapter\n",
        "# from urllib3.util.retry import Retry\n",
        "\n",
        "import requests\n",
        "from bs4 import BeautifulSoup\n",
        "\n",
        "import math\n",
        "\n",
        "import urllib3\n",
        "\n",
        "urllib3.disable_warnings(urllib3.exceptions.InsecureRequestWarning)\n",
        "#Download the Punkt tokenizer models\n",
        "nltk.download('punkt')\n",
        "nltk.download('averaged_perceptron_tagger')\n",
        "\n",
        "from collections import Counter\n",
        "\n",
        "from nltk.tokenize import word_tokenize\n",
        "from nltk.corpus import stopwords\n",
        "\n",
        "\n",
        "nlp = spacy.load(\"en_core_web_sm\")"
      ]
    },
    {
      "cell_type": "markdown",
      "metadata": {
        "id": "XBCkiTbIwiug"
      },
      "source": [
        "Getting all the faculty links"
      ],
      "id": "XBCkiTbIwiug"
    },
    {
      "cell_type": "code",
      "execution_count": null,
      "id": "c25eb3c2",
      "metadata": {
        "id": "c25eb3c2"
      },
      "outputs": [],
      "source": [
        "url = \"https://www.iisermohali.ac.in/faculty/people/faculty\"\n",
        "\n",
        "r = requests.get(url,  verify = False)\n",
        "htmlContent = r.content\n",
        "# print(htmlContent)\n",
        "\n",
        "# Step 2: Parse the HTML\n",
        "soup = BeautifulSoup(htmlContent, 'html.parser')\n",
        "\n",
        "# Get the title of the HTML page\n",
        "title = soup.title\n",
        "\n",
        "# Get all the paragraphs from the page\n",
        "paras = soup.find_all('p')\n",
        "\n",
        "#to get the faculty hyperlinks by findng anchor elements\n",
        "anchor = soup.find_all('a')\n",
        "anchor\n",
        "\n",
        "#to get all the anchors which have hyperlinks\n",
        "all_links = soup.find_all(\"a\", href=True)\n"
      ]
    },
    {
      "cell_type": "code",
      "execution_count": null,
      "id": "7bb05129",
      "metadata": {
        "id": "7bb05129",
        "outputId": "e5b429cb-3b7a-417d-ea3f-11e06cc707a3"
      },
      "outputs": [
        {
          "name": "stdout",
          "output_type": "stream",
          "text": [
            "106\n"
          ]
        }
      ],
      "source": [
        "#to find research area. Every 6th td starting from 4th\n",
        "Research_Area = []\n",
        "prof_RA = soup.find_all('td')\n",
        "for i in range(4,len(prof_RA),6):\n",
        "    RA = (prof_RA[i].get_text())\n",
        "    if RA not in ['-', 'E. coli Genetics and Physiology']: #gowrishankar and kinjalk names and sites missing\n",
        "        Research_Area.append(RA)\n",
        "        if RA == 'Geomorphology, Remote Sensing and GIS, Disaster Mitigation':\n",
        "            break\n",
        "\n",
        "print(len(Research_Area))"
      ]
    },
    {
      "cell_type": "code",
      "execution_count": null,
      "id": "a87841b6",
      "metadata": {
        "id": "a87841b6"
      },
      "outputs": [],
      "source": [
        "#searching the hyperlinks of faculty from all the hyperlinks\n",
        "#create a list of faculty hyperlinks\n",
        "#create a list of faculty names\n",
        "faculty_links = []\n",
        "faculty_names = []\n",
        "\n",
        "for link in all_links:\n",
        "    href = link['href']\n",
        "    if href.startswith(\"/faculty/\") and \"faculty/people/faculty\" not in href:\n",
        "        name = link.get_text()\n",
        "        faculty_links.append(href)\n",
        "        faculty_names.append(name)\n",
        "        if name == 'Yunus Ali Pulpadan':\n",
        "            break\n",
        "\n",
        "# for info in faculty_links:\n",
        "#     print(info)\n",
        "# print(faculty_names)\n"
      ]
    },
    {
      "cell_type": "markdown",
      "metadata": {
        "id": "oQTVVNYswiug"
      },
      "source": [
        "Getting keywords using word-count"
      ],
      "id": "oQTVVNYswiug"
    },
    {
      "cell_type": "code",
      "execution_count": null,
      "id": "cb7b1e9f",
      "metadata": {
        "id": "cb7b1e9f",
        "outputId": "78bac4f8-75cb-4dc5-f9ad-4d2ccad000ca"
      },
      "outputs": [
        {
          "name": "stdout",
          "output_type": "stream",
          "text": [
            "--- 0 percent completed ---\n",
            "--- 0 percent completed ---\n",
            "--- 10 percent completed ---\n",
            "--- 20 percent completed ---\n",
            "--- 30 percent completed ---\n",
            "--- 40 percent completed ---\n",
            "--- 50 percent completed ---\n",
            "--- 50 percent completed ---\n",
            "--- 60 percent completed ---\n",
            "--- 70 percent completed ---\n",
            "--- 80 percent completed ---\n",
            "--- 90 percent completed ---\n"
          ]
        }
      ],
      "source": [
        "#using word-count\n",
        "\n",
        "faculty_keywords = []\n",
        "\n",
        "departments = []\n",
        "updated_time = []\n",
        "\n",
        "for number , i in enumerate(faculty_links):\n",
        "\n",
        "    n = number/ len(faculty_links)*100\n",
        "    if math.floor(n)%10 == 0:\n",
        "        print(\"---\",math.floor(n),\"percent completed\",\"---\")\n",
        "\n",
        "    departments.append(i[9:12])\n",
        "\n",
        "    r_faculty = requests.get('https://www.iisermohali.ac.in' + i ,  verify = False)\n",
        "    htmlContent_faculty = r_faculty.content\n",
        "    # print(htmlContent)\n",
        "\n",
        "    # Parse the HTML\n",
        "    soup_faculty = BeautifulSoup(htmlContent_faculty, 'html.parser')\n",
        "    time = soup_faculty.find_all(\"time\")\n",
        "    updated_time.append(time[0].get_text().replace(\"\\n\",\"\").replace(\"\\t\",\"\"))\n",
        "\n",
        "\n",
        "\n",
        "    paragraphs = soup_faculty.find_all('p') #to find all the academic contents of the page written in paragraphs\n",
        "\n",
        "    # for p in paragraphs:\n",
        "    #     if str(p).find(\"justify\") != -1:\n",
        "    #         print(p.get_text())\n",
        "\n",
        "    text = ' '.join([p.get_text() for p in paragraphs])\n",
        "    text = text.lower()  # Convert to lowercase\n",
        "\n",
        "    # NLP Analysis (Part-of-Speech Tagging and Named Entity Recognition)\n",
        "    doc = nlp(text)\n",
        "\n",
        "    # Count Word Frequencies\n",
        "    filtered_words = [token.text for token in doc if not token.is_stop and token.is_alpha]\n",
        "    word_freq = Counter(filtered_words)\n",
        "\n",
        "    # Keyword Identification\n",
        "    num_keywords = 10  # Set the number of top keywords you want to identify\n",
        "    keywords = [word for word, freq in word_freq.most_common(num_keywords)]\n",
        "\n",
        "\n",
        "\n",
        "    # Sense-Making - Analyze context, or proceed with further analysis as needed\n",
        "\n",
        "    # Print Keywords\n",
        "    #print(faculty_names[faculty_links.index(i)])\n",
        "    #print(\"Top Keywords:\")\n",
        "    single_faculty_keywords = []\n",
        "    for keyword in keywords:\n",
        "       if keyword not in ['iiser', 'research', 'mohali', 'knowledge', 'po', 'sector', 'sas', 'nagar', '81', 'manauli', 'indian', 'city', 'education', 'pursuit', 'mathematical', 'sciences', 'work', 'telefax', 'web', 'queries', 'mail', 'copyright', 'facility', 'email', 'phone', '+91', 'fax', '+91', 'personal', 'page'  ]:\n",
        "            #print(f\"{keyword}: {word_freq[keyword]} times\")\n",
        "            single_faculty_keywords.append(keyword) #for removing unwanted keywords\n",
        "    if not single_faculty_keywords: #if final keywords list remains empty, change the method of keyword identification\n",
        "        keywords = [token.text for token in doc if token.pos_ in ['NOUN', 'ADJ']]\n",
        "        for keyword in keywords:\n",
        "              if keyword not in ['iiser', 'research', 'mohali', 'knowledge', 'po', 'sector', 'sas', 'nagar', '81', 'manauli', 'indian', 'city', 'education', 'pursuit', 'mathematical', 'sciences', 'work', 'telefax', 'web', 'queries', 'mail', 'copyright', 'facility', 'email', 'phone', '+91', 'fax', '+91', 'personal', 'page'  ]:\n",
        "                    single_faculty_keywords.append(keyword)\n",
        "    faculty_keywords.append(single_faculty_keywords)  #for keywords of all faculty\n",
        "    #print('-----------------')\n",
        "\n",
        "    # print(single_faculty_keywords)\n",
        "\n",
        "#print(faculty_keywords)\n"
      ]
    },
    {
      "cell_type": "code",
      "execution_count": null,
      "id": "4dcfeba7",
      "metadata": {
        "id": "4dcfeba7",
        "outputId": "4ca41aa3-7dee-4cbe-a6d2-668c045fdf6b"
      },
      "outputs": [
        {
          "name": "stdout",
          "output_type": "stream",
          "text": [
            "106\n",
            "106\n",
            "106\n"
          ]
        }
      ],
      "source": [
        "print(len(faculty_names))\n",
        "print(len(Research_Area))\n",
        "print(len(faculty_keywords))"
      ]
    },
    {
      "cell_type": "markdown",
      "metadata": {
        "id": "8tGTjv7Xwiuh"
      },
      "source": [
        "Getting keywords usinf TF-IDF"
      ],
      "id": "8tGTjv7Xwiuh"
    },
    {
      "cell_type": "code",
      "execution_count": null,
      "metadata": {
        "id": "MmX3Obz-wiuh",
        "outputId": "a3e97fe9-ad56-4f20-8efe-473328e60640"
      },
      "outputs": [
        {
          "name": "stdout",
          "output_type": "stream",
          "text": [
            "Requirement already satisfied: scikit-learn in c:\\users\\lenovo\\appdata\\local\\programs\\python\\python36\\lib\\site-packages (0.24.2)\n",
            "Requirement already satisfied: joblib>=0.11 in c:\\users\\lenovo\\appdata\\local\\programs\\python\\python36\\lib\\site-packages (from scikit-learn) (1.1.1)\n",
            "Requirement already satisfied: threadpoolctl>=2.0.0 in c:\\users\\lenovo\\appdata\\local\\programs\\python\\python36\\lib\\site-packages (from scikit-learn) (3.1.0)\n",
            "Requirement already satisfied: numpy>=1.13.3 in c:\\users\\lenovo\\appdata\\local\\programs\\python\\python36\\lib\\site-packages (from scikit-learn) (1.19.5)\n",
            "Requirement already satisfied: scipy>=0.19.1 in c:\\users\\lenovo\\appdata\\local\\programs\\python\\python36\\lib\\site-packages (from scikit-learn) (1.5.4)\n"
          ]
        }
      ],
      "source": [
        "#Using tf-idf.\n",
        "%pip install scikit-learn\n",
        "from sklearn.feature_extraction.text import TfidfVectorizer\n",
        "faculty_keywords_tfidf = []\n",
        "\n",
        "for i in faculty_links:\n",
        "    r_faculty = requests.get('https://www.iisermohali.ac.in' + i ,  verify = False)\n",
        "    htmlContent_faculty = r_faculty.content\n",
        "\n",
        "    # Parse the HTML\n",
        "    soup_faculty = BeautifulSoup(htmlContent_faculty, 'html.parser')\n",
        "    paragraphs = soup_faculty.find_all('p') #to find all the academic contents of the page written in paragraphs\n",
        "    text = ' '.join([p.get_text() for p in paragraphs])\n",
        "    text = text.lower()  # Convert to lowercase\n",
        "\n",
        "    #print(soup_faculty)\n",
        "\n",
        "    single_faculty_keywords_tfidf = []\n",
        "\n",
        "    # Create a TF-IDF vectorizer\n",
        "    tfidf_vectorizer = TfidfVectorizer(stop_words='english')\n",
        "    tfidf_matrix = tfidf_vectorizer.fit_transform([text])\n",
        "\n",
        "    # Get the feature names (words)\n",
        "    feature_names = tfidf_vectorizer.get_feature_names_out()\n",
        "\n",
        "    # Find keywords with high TF-IDF scores\n",
        "    keywords_tfidf = [feature_names[i] for i in tfidf_matrix.sum(axis=0).argsort()]\n",
        "    keywords_list_tfidf = keywords_tfidf[0].tolist()\n",
        "    keywords_sublist_tfidf = keywords_list_tfidf[0]\n",
        "    for keyword_tfidf in keywords_sublist_tfidf:\n",
        "       if keyword_tfidf not in ['iiser', 'research', 'mohali', 'knowledge', 'po', 'sector', 'sas', 'nagar', '81', 'manauli', 'indian', 'city', 'education', 'pursuit', 'mathematical', 'sciences', 'work', 'telefax', 'web', 'queries', 'mail', 'copyright', 'facility', 'email', 'phone', '+91', 'fax', '+91', 'personal', 'page', 'iiserm', 'iisermohali'  ]:\n",
        "\n",
        "            single_faculty_keywords_tfidf.append(keyword_tfidf) #for removing unwanted keywords\n",
        "\n",
        "    faculty_keywords_tfidf.append(single_faculty_keywords_tfidf)\n",
        "    # Print Keywords\n",
        "    # print(faculty_names[faculty_links.index(i)])\n",
        "    # print(single_faculty_keywords_tfidf)\n",
        ""
      ],
      "id": "MmX3Obz-wiuh"
    },
    {
      "cell_type": "code",
      "execution_count": null,
      "id": "ad064615",
      "metadata": {
        "id": "ad064615",
        "outputId": "f1fc6f09-bcd0-4ff8-efef-2a3675ce9a27"
      },
      "outputs": [
        {
          "data": {
            "text/html": [
              "<div>\n",
              "<style scoped>\n",
              "    .dataframe tbody tr th:only-of-type {\n",
              "        vertical-align: middle;\n",
              "    }\n",
              "\n",
              "    .dataframe tbody tr th {\n",
              "        vertical-align: top;\n",
              "    }\n",
              "\n",
              "    .dataframe thead th {\n",
              "        text-align: right;\n",
              "    }\n",
              "</style>\n",
              "<table border=\"1\" class=\"dataframe\">\n",
              "  <thead>\n",
              "    <tr style=\"text-align: right;\">\n",
              "      <th></th>\n",
              "      <th>Faculty Name</th>\n",
              "      <th>Research Area</th>\n",
              "      <th>Keywords</th>\n",
              "      <th>Keywords_tfidf</th>\n",
              "      <th>Updated Time</th>\n",
              "      <th>Department</th>\n",
              "    </tr>\n",
              "  </thead>\n",
              "  <tbody>\n",
              "    <tr>\n",
              "      <th>0</th>\n",
              "      <td>Abhik Ganguli</td>\n",
              "      <td>Number Theory</td>\n",
              "      <td>[p, mod, representations, galois, modular, local]</td>\n",
              "      <td>[ghate, hilbert, hosting, weights, institute, ...</td>\n",
              "      <td>25 May 2017</td>\n",
              "      <td>dms</td>\n",
              "    </tr>\n",
              "    <tr>\n",
              "      <th>1</th>\n",
              "      <td>Abhishek Chaudhuri</td>\n",
              "      <td>Condensed Matter Theory : Soft and Biological ...</td>\n",
              "      <td>[equilibrium, cell, dynamics, condensed, matte...</td>\n",
              "      <td>[webmaster, matterthe, stresses, material, stu...</td>\n",
              "      <td>05 July 2018</td>\n",
              "      <td>dps</td>\n",
              "    </tr>\n",
              "    <tr>\n",
              "      <th>2</th>\n",
              "      <td>Adrene Freeda D 'cruz</td>\n",
              "      <td>Postwar American Literature</td>\n",
              "      <td>[science, adrene, dcruz, american, theatre, fi...</td>\n",
              "      <td>[114, noteworthy, louis, long, literary, libra...</td>\n",
              "      <td>24 June 2020</td>\n",
              "      <td>hss</td>\n",
              "    </tr>\n",
              "    <tr>\n",
              "      <th>3</th>\n",
              "      <td>Alok Kumar Maharana</td>\n",
              "      <td>Algebraic Geometry</td>\n",
              "      <td>[complex, open, algebraic, surfaces, linear, s...</td>\n",
              "      <td>[maharanaassistant, webmaster, open, professor...</td>\n",
              "      <td>09 May 2023</td>\n",
              "      <td>dms</td>\n",
              "    </tr>\n",
              "    <tr>\n",
              "      <th>4</th>\n",
              "      <td>Amit Kulshrestha</td>\n",
              "      <td>Algebra</td>\n",
              "      <td>[algebras, algebraic, central, simple, quadrat...</td>\n",
              "      <td>[worked, sites, linear, laws, kulshrestha, sof...</td>\n",
              "      <td>14 August 2019</td>\n",
              "      <td>dms</td>\n",
              "    </tr>\n",
              "    <tr>\n",
              "      <th>...</th>\n",
              "      <td>...</td>\n",
              "      <td>...</td>\n",
              "      <td>...</td>\n",
              "      <td>...</td>\n",
              "      <td>...</td>\n",
              "      <td>...</td>\n",
              "    </tr>\n",
              "    <tr>\n",
              "      <th>101</th>\n",
              "      <td>Vinayak Sinha</td>\n",
              "      <td>Atmospheric Chemistry &amp; Emissions, Source appo...</td>\n",
              "      <td>[sinha, air, kumar, emissions, ambient, atmosp...</td>\n",
              "      <td>[induced, levels, mahata, mahogany, main, majo...</td>\n",
              "      <td>09 May 2023</td>\n",
              "      <td>ees</td>\n",
              "    </tr>\n",
              "    <tr>\n",
              "      <th>102</th>\n",
              "      <td>Vishal Bhardwaj</td>\n",
              "      <td>Experimental High Energy Physics: Exotic parti...</td>\n",
              "      <td>[physics]</td>\n",
              "      <td>[kek, involved, japan, model, new, order, part...</td>\n",
              "      <td>07 December 2020</td>\n",
              "      <td>dps</td>\n",
              "    </tr>\n",
              "    <tr>\n",
              "      <th>103</th>\n",
              "      <td>Yashonidhi Pandey</td>\n",
              "      <td>Algebraic Geometry</td>\n",
              "      <td>[professor, hosting, iiserm, computing]</td>\n",
              "      <td>[science, related, professor, pandeyassistant,...</td>\n",
              "      <td>25 May 2017</td>\n",
              "      <td>dms</td>\n",
              "    </tr>\n",
              "    <tr>\n",
              "      <th>104</th>\n",
              "      <td>Yogesh Singh</td>\n",
              "      <td>Strongly Correlated Electron Systems/ Crystal ...</td>\n",
              "      <td>[materials, new, electronic, strongly, correla...</td>\n",
              "      <td>[proximity, property, professor, pressure, pot...</td>\n",
              "      <td>04 August 2021</td>\n",
              "      <td>dps</td>\n",
              "    </tr>\n",
              "    <tr>\n",
              "      <th>105</th>\n",
              "      <td>Yunus Ali Pulpadan</td>\n",
              "      <td>Geomorphology, Remote Sensing and GIS, Disaste...</td>\n",
              "      <td>[landslide, understanding]</td>\n",
              "      <td>[issues, professor, processes, post, planning,...</td>\n",
              "      <td>24 May 2022</td>\n",
              "      <td>dps</td>\n",
              "    </tr>\n",
              "  </tbody>\n",
              "</table>\n",
              "<p>106 rows × 6 columns</p>\n",
              "</div>"
            ],
            "text/plain": [
              "              Faculty Name                                      Research Area   \n",
              "0            Abhik Ganguli                                      Number Theory  \\\n",
              "1       Abhishek Chaudhuri  Condensed Matter Theory : Soft and Biological ...   \n",
              "2    Adrene Freeda D 'cruz                        Postwar American Literature   \n",
              "3      Alok Kumar Maharana                                 Algebraic Geometry   \n",
              "4         Amit Kulshrestha                                            Algebra   \n",
              "..                     ...                                                ...   \n",
              "101          Vinayak Sinha  Atmospheric Chemistry & Emissions, Source appo...   \n",
              "102        Vishal Bhardwaj  Experimental High Energy Physics: Exotic parti...   \n",
              "103      Yashonidhi Pandey                                 Algebraic Geometry   \n",
              "104           Yogesh Singh  Strongly Correlated Electron Systems/ Crystal ...   \n",
              "105     Yunus Ali Pulpadan  Geomorphology, Remote Sensing and GIS, Disaste...   \n",
              "\n",
              "                                              Keywords   \n",
              "0    [p, mod, representations, galois, modular, local]  \\\n",
              "1    [equilibrium, cell, dynamics, condensed, matte...   \n",
              "2    [science, adrene, dcruz, american, theatre, fi...   \n",
              "3    [complex, open, algebraic, surfaces, linear, s...   \n",
              "4    [algebras, algebraic, central, simple, quadrat...   \n",
              "..                                                 ...   \n",
              "101  [sinha, air, kumar, emissions, ambient, atmosp...   \n",
              "102                                          [physics]   \n",
              "103            [professor, hosting, iiserm, computing]   \n",
              "104  [materials, new, electronic, strongly, correla...   \n",
              "105                         [landslide, understanding]   \n",
              "\n",
              "                                        Keywords_tfidf      Updated Time   \n",
              "0    [ghate, hilbert, hosting, weights, institute, ...       25 May 2017  \\\n",
              "1    [webmaster, matterthe, stresses, material, stu...      05 July 2018   \n",
              "2    [114, noteworthy, louis, long, literary, libra...      24 June 2020   \n",
              "3    [maharanaassistant, webmaster, open, professor...       09 May 2023   \n",
              "4    [worked, sites, linear, laws, kulshrestha, sof...    14 August 2019   \n",
              "..                                                 ...               ...   \n",
              "101  [induced, levels, mahata, mahogany, main, majo...       09 May 2023   \n",
              "102  [kek, involved, japan, model, new, order, part...  07 December 2020   \n",
              "103  [science, related, professor, pandeyassistant,...       25 May 2017   \n",
              "104  [proximity, property, professor, pressure, pot...    04 August 2021   \n",
              "105  [issues, professor, processes, post, planning,...       24 May 2022   \n",
              "\n",
              "    Department  \n",
              "0          dms  \n",
              "1          dps  \n",
              "2          hss  \n",
              "3          dms  \n",
              "4          dms  \n",
              "..         ...  \n",
              "101        ees  \n",
              "102        dps  \n",
              "103        dms  \n",
              "104        dps  \n",
              "105        dps  \n",
              "\n",
              "[106 rows x 6 columns]"
            ]
          },
          "execution_count": 28,
          "metadata": {},
          "output_type": "execute_result"
        }
      ],
      "source": [
        "import pandas as pd\n",
        "\n",
        "data = {\n",
        "    'Faculty Name': faculty_names ,\n",
        "    'Research Area': Research_Area,\n",
        "    'Keywords': faculty_keywords,\n",
        "    'Keywords_tfidf' : faculty_keywords_tfidf,\n",
        "    'Updated Time': updated_time,\n",
        "    'Department': departments\n",
        "}\n",
        "\n",
        "# Create a DataFrame from a dictionary\n",
        "df = pd.DataFrame(data)\n",
        "\n",
        "# Display the DataFrame\n",
        "df.to_csv(\"IISER_df\")\n",
        "df"
      ]
    },
    {
      "cell_type": "markdown",
      "metadata": {
        "id": "eUE-wEzgwiuh"
      },
      "source": [
        "Data Analysis:"
      ],
      "id": "eUE-wEzgwiuh"
    },
    {
      "cell_type": "code",
      "execution_count": null,
      "metadata": {
        "id": "ubG3ko1pwiuh"
      },
      "outputs": [],
      "source": [
        "import pandas as pd\n",
        "df = pd.read_csv(\"IISER_df.csv\")"
      ],
      "id": "ubG3ko1pwiuh"
    },
    {
      "cell_type": "code",
      "execution_count": null,
      "id": "0767e50e",
      "metadata": {
        "id": "0767e50e",
        "outputId": "c4c29968-5b40-43f6-ade7-05b24e8d4b97"
      },
      "outputs": [
        {
          "data": {
            "image/png": "[encoded data removed]",
            "text/plain": [
              "<Figure size 1000x800 with 1 Axes>"
            ]
          },
          "metadata": {},
          "output_type": "display_data"
        }
      ],
      "source": [
        "import pandas as pd\n",
        "import matplotlib.pyplot as plt\n",
        "\n",
        "# Assuming df is your DataFrame with a column \"Updated Time\"\n",
        "# Extract years from the \"Updated Time\" column\n",
        "years = [i[-4:] for i in df[\"Updated Time\"]]\n",
        "\n",
        "# Create a DataFrame with the extracted years\n",
        "years_df = pd.DataFrame({\"year\": years})\n",
        "\n",
        "# Count occurrences of each year\n",
        "Year_of_last_update = years_df[\"year\"].value_counts()\n",
        "\n",
        "# Plotting\n",
        "fig, ax = plt.subplots(figsize=(10, 8))\n",
        "bars = Year_of_last_update.plot(kind='bar', ax=ax)\n",
        "\n",
        "# Annotate each bar with its count value\n",
        "for bar in bars.patches:\n",
        "    yval = bar.get_height()\n",
        "    ax.annotate(f'{yval}', xy=(bar.get_x() + bar.get_width() / 2, yval),\n",
        "                xytext=(0, 3),  # 3 points vertical offset\n",
        "                textcoords=\"offset points\",\n",
        "                ha='center', va='bottom')\n",
        "\n",
        "plt.xlabel('Year of last update')\n",
        "plt.ylabel('Number of Professors')\n",
        "plt.title('Number of Professor and last updated year')\n",
        "plt.show()\n"
      ]
    },
    {
      "cell_type": "code",
      "execution_count": null,
      "metadata": {
        "id": "bN8H4As2wiuh",
        "outputId": "6f138e8c-9297-484f-f3a2-92bf0077c599"
      },
      "outputs": [
        {
          "data": {
            "image/png": "[encoded data removed]",
            "text/plain": [
              "<Figure size 1000x800 with 1 Axes>"
            ]
          },
          "metadata": {},
          "output_type": "display_data"
        }
      ],
      "source": [
        "import matplotlib.pyplot as plt\n",
        "\n",
        "# Assuming df is your DataFrame with a column \"Department\"\n",
        "# Count occurrences of each department\n",
        "departments = df[\"Department\"].value_counts()\n",
        "\n",
        "# Plotting\n",
        "fig, ax = plt.subplots(figsize=(10, 8))\n",
        "bars = departments.plot(kind='bar', ax=ax, color='orange')\n",
        "\n",
        "# Annotate each bar with its count value\n",
        "for bar in bars.patches:\n",
        "    yval = bar.get_height()\n",
        "    ax.annotate(f'{yval}', xy=(bar.get_x() + bar.get_width() / 2, yval),\n",
        "                xytext=(0, 3),  # 3 points vertical offset\n",
        "                textcoords=\"offset points\",\n",
        "                ha='center', va='bottom')\n",
        "\n",
        "# plt.title('No of Professors in Each Department')\n",
        "\n",
        "# Add labels and a title\n",
        "plt.xlabel('Subjects')\n",
        "plt.ylabel('No. of Professors')\n",
        "plt.title('Subject vs. Number of Professors in Each subject Histogram')\n",
        "plt.show()\n",
        "\n"
      ],
      "id": "bN8H4As2wiuh"
    },
    {
      "cell_type": "markdown",
      "metadata": {
        "id": "2ry6MkpZwiui"
      },
      "source": [
        "List of Topics Available in IISER Mohali"
      ],
      "id": "2ry6MkpZwiui"
    },
    {
      "cell_type": "code",
      "execution_count": null,
      "metadata": {
        "id": "swGnXUW9wiui",
        "outputId": "f575ee4d-a098-4db9-95c8-a8a306db5bce"
      },
      "outputs": [
        {
          "name": "stdout",
          "output_type": "stream",
          "text": [
            "Research Area\n",
            "Algebraic Geometry                                           5\n",
            "Number Theory                                                1\n",
            "Algebra                                                      1\n",
            "Number theory                                                1\n",
            "Applications of Homotopical Algebra to Algebraic Geometry    1\n",
            "Harmonic Analysis                                            1\n",
            "Groups and Geometry                                          1\n",
            "Functional Analysis                                          1\n",
            "Topology and Groups                                          1\n",
            "Theoretical and Applied Probability                          1\n",
            "Geometric Group Theory                                       1\n",
            "Topology of Real Algebraic Varieties                         1\n",
            " Riemannian Geometry                                         1\n",
            "Lie Algebras and Representation Theory                       1\n",
            "Differential Algebra                                         1\n",
            "Name: count, dtype: int64 dms Department Research Areas\n",
            " \n",
            "Research Area\n",
            "Condensed Matter Theory : Soft and Biological Matter                                                                                                     1\n",
            "Statistical Mechanics                                                                                                                                    1\n",
            "Strongly Correlated Electron Systems/ Crystal Growth                                                                                                     1\n",
            "Experimental High Energy Physics: Exotic particles, Beauty and Charm physics.                                                                            1\n",
            "Infection biology and host-pathogen interaction                                                                                                          1\n",
            "Soft Matter & Biological Physics, Synthetic Biology                                                                                                      1\n",
            "Nonlinear Dynamics                                                                                                                                       1\n",
            "Experimental High Energy Particle and Nuclear Physics                                                                                                    1\n",
            "Operator Theory, Functional Analysis                                                                                                                     1\n",
            "Condensed Matter Theory                                                                                                                                  1\n",
            "Quantum optics and quantum information theory                                                                                                            1\n",
            "Optics, Ultrasound, PDEs, Inverse Problem, Instrumentation, microscope,PAT, Angiogenesis                                                                 1\n",
            "Epigenetic Mechanisms in Diabetic Vascular Complications                                                                                                 1\n",
            "Thermodynamics and Statistical Physics                                                                                                                   1\n",
            "Theoretical soft condensed matter physics, statistical mechanics and computational physics                                                               1\n",
            "Particle Physics                                                                                                                                         1\n",
            "High Energy Astrophysics and its interface with Cosmology, Astro-particle physics, and Cosmic rays, Physics of Relativistic jets, Gamma-ray Astronomy    1\n",
            "Quantum Optics & Bose Einstein condensation                                                                                                              1\n",
            "Quantum Information and Quantum Physics                                                                                                                  1\n",
            "NMR Quantum Computing, Metabolomics and Methodology Development                                                                                          1\n",
            "Quantum aspects of Gravity                                                                                                                               1\n",
            "Ultrafast Quantum Dynamics                                                                                                                               1\n",
            "Astrophysics, Cosmology                                                                                                                                  1\n",
            "General Relativity and Cosmology                                                                                                                         1\n",
            "Low-temperature scanning probe microscopy                                                                                                                1\n",
            "Soft Condensed Matter, Statistical Physics                                                                                                               1\n",
            "Quantum Theory                                                                                                                                           1\n",
            "Mesoscopic Systems                                                                                                                                       1\n",
            "Geomorphology, Remote Sensing and GIS, Disaster Mitigation                                                                                               1\n",
            "Name: count, dtype: int64 dps Department Research Areas\n",
            " \n",
            "Research Area\n",
            "Postwar American Literature                                                                              1\n",
            "Social Science                                                                                           1\n",
            "Labour & Development Economics, Informal & Plantation Economy, Urban Labour Market and Public Policy     1\n",
            "Paleoanthropology & Archaeology                                                                          1\n",
            "Urban History, Informal Economy and Infrastructure Studies                                               1\n",
            "Intellectual History, Literary Historiography, South Asian Literary Cultures                             1\n",
            "Name: count, dtype: int64 hss Department Research Areas\n",
            " \n",
            "Research Area\n",
            "Glutathione and Sulphur Metabolism in Yeasts                   1\n",
            "Immunology                                                     1\n",
            "Ubiquitin-Like Modifiers and RNA Splicing                      1\n",
            "Computational structural and systems biology                   1\n",
            "Immunology and immunopathology                                 1\n",
            "Plant genetics, plant stress physiology                        1\n",
            "Neurobiology                                                   1\n",
            "Evolution, Genetics and Genomics                               1\n",
            "Plant Developmental Genetics                                   1\n",
            "Molecular Mechanisms Underlying Retina Regeneration            1\n",
            "Bacterial Genetics and Physiology                              1\n",
            "Protein Engineering & Structural Biochemistry                  1\n",
            "Evolutionary Genetics                                          1\n",
            "Behavioural Ecology & Evolutionary Biology                     1\n",
            "Cell Biology                                                   1\n",
            "Developmental Genetics                                         1\n",
            "Systems biology of genome regulation                           1\n",
            "Protein Structure-Function Studies                             1\n",
            "Cellular stress biology, innate immunity,C. elegansgenetics    1\n",
            "Cellular Virology                                              1\n",
            "Molecular Mechanism of DNA replication                         1\n",
            "Molecular Cell & Developmental Biology                         1\n",
            "Name: count, dtype: int64 dbs Department Research Areas\n",
            " \n",
            "Research Area\n",
            "Synthetic Organic Chemistry                                                                                               2\n",
            "Crystallography, Crystal Engineering, MOFs                                                                                1\n",
            "Materials Chemistry                                                                                                       1\n",
            "Bio-Inorganic Chemistry, Catalysis                                                                                        1\n",
            "Physical Organic Chemistry                                                                                                1\n",
            "Bio-organic Chemistry, Molecular Self-assembly and Systems Chemistry                                                      1\n",
            "Supramolecular chemistry, soft and active matters                                                                         1\n",
            "Inorganic & Organometallic synthesis and catalysis                                                                        1\n",
            "Organometallic/Inorganic, Supramolecular chemistry, Catalysis, Mutifuncational nano materials and X-ray Diffractometry    1\n",
            "Functional Organic Material                                                                                               1\n",
            "Intrinsically Disordered Proteins: Phase Transition, Misfolding, Aggregation, and Amyloid Formation                       1\n",
            "Single Molecule Manipulation & Imaging and Nanobiology                                                                    1\n",
            "Ultrafast spectroscopy and Optical trapping                                                                               1\n",
            "Organic Synthesis and Catalysis                                                                                           1\n",
            "Polymer Chemistry                                                                                                         1\n",
            "Solid-state NMR Spectroscopy                                                                                              1\n",
            "Computational & Theoretical Chemistry                                                                                     1\n",
            "Molecular Magnetism and Heterogeneous Catalysis                                                                           1\n",
            "Quantum Chemistry                                                                                                         1\n",
            "Molecular Strong Coupling                                                                                                 1\n",
            "Catalysis, Small Molecule Activation, M-L Multiple Bonding                                                                1\n",
            "Functional Nanomaterials and applications                                                                                 1\n",
            "Name: count, dtype: int64 dcs Department Research Areas\n",
            " \n",
            "Research Area\n",
            "Paleoclimatology and Geochemistry                                                                                 1\n",
            "Environmental Science                                                                                             1\n",
            "Microwave Remote Sensing, Satellite radar interferometry, Crustal deformation, Groundwater, Parallel computing    1\n",
            "Weather and Climate Modelling; Monsoon Dynamics                                                                   1\n",
            "Economic Geology, Granite metallogeny, Crustal fluids, Fluid inclusions                                           1\n",
            "Environmental Microbiology and Biotechnology                                                                      1\n",
            "Atmospheric Chemistry & Emissions, Source apportionment studies                                                   1\n",
            "Name: count, dtype: int64 ees Department Research Areas\n",
            " \n"
          ]
        }
      ],
      "source": [
        "import pandas as pd\n",
        "\n",
        "# Load the csv file\n",
        "df = pd.read_csv('IISER_df.csv')\n",
        "\n",
        "# List of unique departments\n",
        "departments = df['Department'].unique()\n",
        "\n",
        "\n",
        "# Iterate over each department\n",
        "for department in departments:\n",
        "    # Create a separate dataframe for the current department\n",
        "    current_department_df = df[df['Department'] == department]\n",
        "\n",
        "    # Get the unique Research Areas for the current department\n",
        "    current_areas = current_department_df['Research Area'].unique()\n",
        "\n",
        "    # Count the occurrence of each research area in the current department\n",
        "    current_area_counts = current_department_df['Research Area'].value_counts()\n",
        "\n",
        "    # Print the results for the current department\n",
        "    print(current_area_counts, f'{department} Department Research Areas')\n",
        "    print(' ')"
      ],
      "id": "swGnXUW9wiui"
    }
  ],
  "metadata": {
    "kernelspec": {
      "display_name": "Python 3 (ipykernel)",
      "language": "python",
      "name": "python3"
    },
    "language_info": {
      "codemirror_mode": {
        "name": "ipython",
        "version": 3
      },
      "file_extension": ".py",
      "mimetype": "text/x-python",
      "name": "python",
      "nbconvert_exporter": "python",
      "pygments_lexer": "ipython3",
      "version": "3.8.6"
    },
    "colab": {
      "provenance": []
    }
  },
  "nbformat": 4,
  "nbformat_minor": 5
}